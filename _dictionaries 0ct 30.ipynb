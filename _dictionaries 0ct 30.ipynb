{
 "cells": [
  {
   "cell_type": "markdown",
   "id": "a1dda241",
   "metadata": {},
   "source": [
    "# documentation of dictionaries "
   ]
  },
  {
   "cell_type": "markdown",
   "id": "a733d474",
   "metadata": {},
   "source": [
    "# Dictionaries"
   ]
  },
  {
   "cell_type": "markdown",
   "id": "ee724a90",
   "metadata": {},
   "source": [
    "n Python, a dictionary is a built-in data structure used to store collections of data in a key-value pair format. Each element in a dictionary consists of a key and its corresponding value.\n",
    "Keys are unique within a dictionary, and they are used to access the associated values. Dictionaries are often used for fast and efficient data retrieval based on keys.\n",
    "Syntax : my_dict = {}"
   ]
  },
  {
   "cell_type": "code",
   "execution_count": 3,
   "id": "bb52ffa5",
   "metadata": {},
   "outputs": [
    {
     "data": {
      "text/plain": [
       "{1: [1, 2, 3], 'hello': ['hii']}"
      ]
     },
     "execution_count": 3,
     "metadata": {},
     "output_type": "execute_result"
    }
   ],
   "source": [
    "x = {1:[1,2,3],'hello':(4,5,6), 'hello':['hii']}\n",
    "x"
   ]
  },
  {
   "cell_type": "code",
   "execution_count": 4,
   "id": "400dc9a6",
   "metadata": {},
   "outputs": [
    {
     "data": {
      "text/plain": [
       "'hii'"
      ]
     },
     "execution_count": 4,
     "metadata": {},
     "output_type": "execute_result"
    }
   ],
   "source": [
    "x['hello'][0]"
   ]
  },
  {
   "cell_type": "code",
   "execution_count": 6,
   "id": "b3ddbe53",
   "metadata": {},
   "outputs": [
    {
     "data": {
      "text/plain": [
       "['__class__',\n",
       " '__class_getitem__',\n",
       " '__contains__',\n",
       " '__delattr__',\n",
       " '__delitem__',\n",
       " '__dir__',\n",
       " '__doc__',\n",
       " '__eq__',\n",
       " '__format__',\n",
       " '__ge__',\n",
       " '__getattribute__',\n",
       " '__getitem__',\n",
       " '__getstate__',\n",
       " '__gt__',\n",
       " '__hash__',\n",
       " '__init__',\n",
       " '__init_subclass__',\n",
       " '__ior__',\n",
       " '__iter__',\n",
       " '__le__',\n",
       " '__len__',\n",
       " '__lt__',\n",
       " '__ne__',\n",
       " '__new__',\n",
       " '__or__',\n",
       " '__reduce__',\n",
       " '__reduce_ex__',\n",
       " '__repr__',\n",
       " '__reversed__',\n",
       " '__ror__',\n",
       " '__setattr__',\n",
       " '__setitem__',\n",
       " '__sizeof__',\n",
       " '__str__',\n",
       " '__subclasshook__',\n",
       " 'clear',\n",
       " 'copy',\n",
       " 'fromkeys',\n",
       " 'get',\n",
       " 'items',\n",
       " 'keys',\n",
       " 'pop',\n",
       " 'popitem',\n",
       " 'setdefault',\n",
       " 'update',\n",
       " 'values']"
      ]
     },
     "execution_count": 6,
     "metadata": {},
     "output_type": "execute_result"
    }
   ],
   "source": [
    "dir(dict)"
   ]
  },
  {
   "cell_type": "code",
   "execution_count": 8,
   "id": "e9531967",
   "metadata": {},
   "outputs": [
    {
     "data": {
      "text/plain": [
       "{1: [22, 43], 3: 44}"
      ]
     },
     "execution_count": 8,
     "metadata": {},
     "output_type": "execute_result"
    }
   ],
   "source": [
    "x = dict([(1,[22,43]),(3,44)])\n",
    "x"
   ]
  },
  {
   "cell_type": "code",
   "execution_count": 9,
   "id": "c830d0d7",
   "metadata": {},
   "outputs": [
    {
     "data": {
      "text/plain": [
       "{'k1': 1, 'k2': 2, 'k3': 3}"
      ]
     },
     "execution_count": 9,
     "metadata": {},
     "output_type": "execute_result"
    }
   ],
   "source": [
    "x = {'k1':1, 'k2':2,'k3':3}\n",
    "x"
   ]
  },
  {
   "cell_type": "markdown",
   "id": "61e04e07",
   "metadata": {},
   "source": [
    "# get()"
   ]
  },
  {
   "cell_type": "markdown",
   "id": "38203a5a",
   "metadata": {},
   "source": [
    "get() method is used to retrieve the value associated with a given key in a dictionary.\n",
    "this method allows you to access dictionary values in a way that provides a default value if the key does not exist in the dictionary.\n",
    "by calling ('key name') \n",
    ":if the given key was not found it throughs an error"
   ]
  },
  {
   "cell_type": "code",
   "execution_count": 11,
   "id": "895e2131",
   "metadata": {},
   "outputs": [
    {
     "data": {
      "text/plain": [
       "{'k1': 1, 'k2': 2, 'k3': 3}"
      ]
     },
     "execution_count": 11,
     "metadata": {},
     "output_type": "execute_result"
    }
   ],
   "source": [
    "x.get('k')\n",
    "x"
   ]
  },
  {
   "cell_type": "code",
   "execution_count": 12,
   "id": "1d66380f",
   "metadata": {},
   "outputs": [
    {
     "data": {
      "text/plain": [
       "{'k1': 1, 'k2': 2, 'k3': 3, 'k4': 4}"
      ]
     },
     "execution_count": 12,
     "metadata": {},
     "output_type": "execute_result"
    }
   ],
   "source": [
    "x['k4']=4\n",
    "x"
   ]
  },
  {
   "cell_type": "code",
   "execution_count": 13,
   "id": "7c85137c",
   "metadata": {},
   "outputs": [
    {
     "data": {
      "text/plain": [
       "{'k1': 111, 'k2': 2, 'k3': 3, 'k4': 4}"
      ]
     },
     "execution_count": 13,
     "metadata": {},
     "output_type": "execute_result"
    }
   ],
   "source": [
    "x['k1']=111\n",
    "x"
   ]
  },
  {
   "cell_type": "markdown",
   "id": "8bb30ab4",
   "metadata": {},
   "source": [
    "# update()\n",
    "update() method is used to update the content of a dictionary by adding key-value pairs from another dictionary or an iterable (such as a list of tuples).\n",
    "This method allows you to merge the contents of one dictionary into another."
   ]
  },
  {
   "cell_type": "code",
   "execution_count": 14,
   "id": "f70eeefc",
   "metadata": {},
   "outputs": [
    {
     "data": {
      "text/plain": [
       "{'k1': 111, 'k2': 2, 'k3': 3, 'k4': 4, 'k7': 7, 'k8': 8}"
      ]
     },
     "execution_count": 14,
     "metadata": {},
     "output_type": "execute_result"
    }
   ],
   "source": [
    "x.update({'k7':7,'k8':8})\n",
    "x"
   ]
  },
  {
   "cell_type": "code",
   "execution_count": 15,
   "id": "e2ef324e",
   "metadata": {},
   "outputs": [
    {
     "data": {
      "text/plain": [
       "{'k1': 111, 'k2': 2, 'k3': 3, 'k4': 4, 'k7': 7, 'k8': 8}"
      ]
     },
     "execution_count": 15,
     "metadata": {},
     "output_type": "execute_result"
    }
   ],
   "source": [
    "x.update({'k7':7,'k8':8})\n",
    "x"
   ]
  },
  {
   "cell_type": "markdown",
   "id": "8203e539",
   "metadata": {},
   "source": [
    "# keys()\n",
    "typically refer to the unique identifiers used in dictionaries to access their associated values.\n",
    "A dictionary is a built-in data structure that stores collections of data in a key-value pair format, and keys are used to access and retrieve the associated values.\n",
    "Keys must be unique within a dictionary, and they are typically immutable data types, such as strings, numbers, or tuples"
   ]
  },
  {
   "cell_type": "markdown",
   "id": "d1340e24",
   "metadata": {},
   "source": [
    "# values()\n",
    "\"values\" in the context of dictionaries refer to the data associated with keys in a dictionary.\n",
    "Dictionaries are a built-in data structure that stores collections of data in a key-value pair format."
   ]
  },
  {
   "cell_type": "markdown",
   "id": "1b73dc48",
   "metadata": {},
   "source": [
    "# items()\n",
    "\"items\" in the context of dictionaries refer to the key-value pairs within the dictionary. Each key-value pair is considered an \"item\" in the dictionary.\n",
    "Dictionaries are a built-in data structure that stores collections of data in a key-value pair format,"
   ]
  },
  {
   "cell_type": "markdown",
   "id": "facc3170",
   "metadata": {},
   "source": [
    "# pop()\n",
    "pop() method is used to remove and return an item (key-value pair) from a dictionary based on a specified key.\n",
    "This method is commonly used to extract a value from a dictionary while also removing the corresponding key-value pair.\n",
    "If the specified key is not found in the dictionary, you can provide a default value to return, or a KeyError will be raised.\n",
    "syntax\n",
    "dictionary.pop(key, default)"
   ]
  },
  {
   "cell_type": "markdown",
   "id": "e1b64d37",
   "metadata": {},
   "source": [
    "# fromkeys()\n",
    "In Python, the fromkeys() method is used to create a new dictionary with specified keys and an optional default value for those keys. This method is useful when you want to initialize a dictionary with a set of keys and assign a default value to each key.\n",
    "Syntax :\n",
    "dict.fromkeys(keys, value)\n",
    "where;\n",
    "dict: The class name of the dictionary (e.g., dict).\n",
    "keys: A sequence (such as a list, tuple, or iterable) of keys that you want to initialize in the dictionary.\n",
    "value (optional): The default value to assign to each key. If this parameter is not provided, it defaults to None."
   ]
  },
  {
   "cell_type": "code",
   "execution_count": null,
   "id": "8d90be78",
   "metadata": {},
   "outputs": [],
   "source": []
  }
 ],
 "metadata": {
  "kernelspec": {
   "display_name": "Python 3 (ipykernel)",
   "language": "python",
   "name": "python3"
  },
  "language_info": {
   "codemirror_mode": {
    "name": "ipython",
    "version": 3
   },
   "file_extension": ".py",
   "mimetype": "text/x-python",
   "name": "python",
   "nbconvert_exporter": "python",
   "pygments_lexer": "ipython3",
   "version": "3.11.5"
  }
 },
 "nbformat": 4,
 "nbformat_minor": 5
}
